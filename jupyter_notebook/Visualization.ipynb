{
 "cells": [
  {
   "cell_type": "code",
   "execution_count": 1,
   "id": "3e4f06be",
   "metadata": {},
   "outputs": [],
   "source": [
    "import numpy as np\n",
    "import pandas as pd\n",
    "import matplotlib.pyplot as plt\n",
    "import matplotlib\n",
    "matplotlib.rcParams['font.family'] = 'Malgun Gothic'\n",
    "matplotlib.rcParams['font.size'] = 15\n",
    "matplotlib.rcParams['axes.unicode_minus'] = False"
   ]
  },
  {
   "cell_type": "code",
   "execution_count": 2,
   "id": "47fd4f94",
   "metadata": {},
   "outputs": [
    {
     "data": {
      "text/html": [
       "<div>\n",
       "<style scoped>\n",
       "    .dataframe tbody tr th:only-of-type {\n",
       "        vertical-align: middle;\n",
       "    }\n",
       "\n",
       "    .dataframe tbody tr th {\n",
       "        vertical-align: top;\n",
       "    }\n",
       "\n",
       "    .dataframe thead th {\n",
       "        text-align: right;\n",
       "    }\n",
       "</style>\n",
       "<table border=\"1\" class=\"dataframe\">\n",
       "  <thead>\n",
       "    <tr style=\"text-align: right;\">\n",
       "      <th></th>\n",
       "      <th>메뉴</th>\n",
       "      <th>재료 추가</th>\n",
       "      <th>빵</th>\n",
       "      <th>치즈</th>\n",
       "      <th>제외 야채</th>\n",
       "      <th>소스</th>\n",
       "    </tr>\n",
       "  </thead>\n",
       "  <tbody>\n",
       "    <tr>\n",
       "      <th>0</th>\n",
       "      <td>8</td>\n",
       "      <td>4</td>\n",
       "      <td>3</td>\n",
       "      <td>1</td>\n",
       "      <td>0</td>\n",
       "      <td>4,5</td>\n",
       "    </tr>\n",
       "    <tr>\n",
       "      <th>1</th>\n",
       "      <td>11</td>\n",
       "      <td>7</td>\n",
       "      <td>3</td>\n",
       "      <td>2</td>\n",
       "      <td>0</td>\n",
       "      <td>5,14</td>\n",
       "    </tr>\n",
       "    <tr>\n",
       "      <th>2</th>\n",
       "      <td>18</td>\n",
       "      <td>7</td>\n",
       "      <td>3</td>\n",
       "      <td>2</td>\n",
       "      <td>0</td>\n",
       "      <td>5,14</td>\n",
       "    </tr>\n",
       "    <tr>\n",
       "      <th>3</th>\n",
       "      <td>8</td>\n",
       "      <td>2</td>\n",
       "      <td>5</td>\n",
       "      <td>2</td>\n",
       "      <td>0</td>\n",
       "      <td>3,5</td>\n",
       "    </tr>\n",
       "    <tr>\n",
       "      <th>4</th>\n",
       "      <td>5</td>\n",
       "      <td>0</td>\n",
       "      <td>5</td>\n",
       "      <td>1</td>\n",
       "      <td>7,8</td>\n",
       "      <td>1,3,5</td>\n",
       "    </tr>\n",
       "  </tbody>\n",
       "</table>\n",
       "</div>"
      ],
      "text/plain": [
       "   메뉴 재료 추가  빵  치즈 제외 야채     소스\n",
       "0   8     4  3   1     0    4,5\n",
       "1  11     7  3   2     0   5,14\n",
       "2  18     7  3   2     0   5,14\n",
       "3   8     2  5   2     0    3,5\n",
       "4   5     0  5   1   7,8  1,3,5"
      ]
     },
     "execution_count": 2,
     "metadata": {},
     "output_type": "execute_result"
    }
   ],
   "source": [
    "df = pd.read_excel('../data/menu_data.xlsx')\n",
    "df.head(5)"
   ]
  },
  {
   "cell_type": "code",
   "execution_count": 3,
   "id": "d4b50179",
   "metadata": {},
   "outputs": [],
   "source": [
    "df['재료 추가'] = df['재료 추가'].str.split(',')"
   ]
  },
  {
   "cell_type": "code",
   "execution_count": 4,
   "id": "2b477826",
   "metadata": {},
   "outputs": [],
   "source": [
    "df['제외 야채'] = df['제외 야채'].str.split(',')"
   ]
  },
  {
   "cell_type": "code",
   "execution_count": 5,
   "id": "3a1cdb40",
   "metadata": {},
   "outputs": [],
   "source": [
    "df['소스'] = df['소스'].str.split(',')"
   ]
  },
  {
   "cell_type": "code",
   "execution_count": 6,
   "id": "1eac50b2",
   "metadata": {},
   "outputs": [],
   "source": [
    "df['재료 추가'] = df['재료 추가'].apply(lambda x: ['0'] if isinstance(x,float) else x)"
   ]
  },
  {
   "cell_type": "code",
   "execution_count": 7,
   "id": "89ae4797",
   "metadata": {},
   "outputs": [],
   "source": [
    "df['제외 야채'] = df['제외 야채'].apply(lambda x: ['0'] if isinstance(x,float) else x)"
   ]
  },
  {
   "cell_type": "code",
   "execution_count": 8,
   "id": "567d9973",
   "metadata": {},
   "outputs": [],
   "source": [
    "df['소스'] = df['소스'].apply(lambda x: ['0'] if isinstance(x,float) else x)"
   ]
  },
  {
   "cell_type": "code",
   "execution_count": 9,
   "id": "e3d27e3c",
   "metadata": {
    "scrolled": false
   },
   "outputs": [
    {
     "data": {
      "text/html": [
       "<div>\n",
       "<style scoped>\n",
       "    .dataframe tbody tr th:only-of-type {\n",
       "        vertical-align: middle;\n",
       "    }\n",
       "\n",
       "    .dataframe tbody tr th {\n",
       "        vertical-align: top;\n",
       "    }\n",
       "\n",
       "    .dataframe thead th {\n",
       "        text-align: right;\n",
       "    }\n",
       "</style>\n",
       "<table border=\"1\" class=\"dataframe\">\n",
       "  <thead>\n",
       "    <tr style=\"text-align: right;\">\n",
       "      <th></th>\n",
       "      <th>메뉴</th>\n",
       "      <th>재료 추가</th>\n",
       "      <th>빵</th>\n",
       "      <th>치즈</th>\n",
       "      <th>제외 야채</th>\n",
       "      <th>소스</th>\n",
       "    </tr>\n",
       "  </thead>\n",
       "  <tbody>\n",
       "    <tr>\n",
       "      <th>0</th>\n",
       "      <td>8</td>\n",
       "      <td>[0]</td>\n",
       "      <td>3</td>\n",
       "      <td>1</td>\n",
       "      <td>[0]</td>\n",
       "      <td>[4, 5]</td>\n",
       "    </tr>\n",
       "    <tr>\n",
       "      <th>1</th>\n",
       "      <td>11</td>\n",
       "      <td>[0]</td>\n",
       "      <td>3</td>\n",
       "      <td>2</td>\n",
       "      <td>[0]</td>\n",
       "      <td>[5, 14]</td>\n",
       "    </tr>\n",
       "    <tr>\n",
       "      <th>2</th>\n",
       "      <td>18</td>\n",
       "      <td>[0]</td>\n",
       "      <td>3</td>\n",
       "      <td>2</td>\n",
       "      <td>[0]</td>\n",
       "      <td>[5, 14]</td>\n",
       "    </tr>\n",
       "    <tr>\n",
       "      <th>3</th>\n",
       "      <td>8</td>\n",
       "      <td>[0]</td>\n",
       "      <td>5</td>\n",
       "      <td>2</td>\n",
       "      <td>[0]</td>\n",
       "      <td>[3, 5]</td>\n",
       "    </tr>\n",
       "    <tr>\n",
       "      <th>4</th>\n",
       "      <td>5</td>\n",
       "      <td>[0]</td>\n",
       "      <td>5</td>\n",
       "      <td>1</td>\n",
       "      <td>[7, 8]</td>\n",
       "      <td>[1, 3, 5]</td>\n",
       "    </tr>\n",
       "    <tr>\n",
       "      <th>...</th>\n",
       "      <td>...</td>\n",
       "      <td>...</td>\n",
       "      <td>...</td>\n",
       "      <td>...</td>\n",
       "      <td>...</td>\n",
       "      <td>...</td>\n",
       "    </tr>\n",
       "    <tr>\n",
       "      <th>1320</th>\n",
       "      <td>9</td>\n",
       "      <td>[0]</td>\n",
       "      <td>1</td>\n",
       "      <td>1</td>\n",
       "      <td>[0]</td>\n",
       "      <td>[10, 13]</td>\n",
       "    </tr>\n",
       "    <tr>\n",
       "      <th>1321</th>\n",
       "      <td>9</td>\n",
       "      <td>[0]</td>\n",
       "      <td>3</td>\n",
       "      <td>1</td>\n",
       "      <td>[0]</td>\n",
       "      <td>[10, 13]</td>\n",
       "    </tr>\n",
       "    <tr>\n",
       "      <th>1322</th>\n",
       "      <td>3</td>\n",
       "      <td>[0]</td>\n",
       "      <td>2</td>\n",
       "      <td>2</td>\n",
       "      <td>[0]</td>\n",
       "      <td>[10, 13]</td>\n",
       "    </tr>\n",
       "    <tr>\n",
       "      <th>1323</th>\n",
       "      <td>3</td>\n",
       "      <td>[0]</td>\n",
       "      <td>5</td>\n",
       "      <td>3</td>\n",
       "      <td>[0]</td>\n",
       "      <td>[10, 14]</td>\n",
       "    </tr>\n",
       "    <tr>\n",
       "      <th>1324</th>\n",
       "      <td>3</td>\n",
       "      <td>[2, 7]</td>\n",
       "      <td>4</td>\n",
       "      <td>4</td>\n",
       "      <td>[0]</td>\n",
       "      <td>[10, 15]</td>\n",
       "    </tr>\n",
       "  </tbody>\n",
       "</table>\n",
       "<p>1325 rows × 6 columns</p>\n",
       "</div>"
      ],
      "text/plain": [
       "      메뉴   재료 추가  빵  치즈   제외 야채         소스\n",
       "0      8     [0]  3   1     [0]     [4, 5]\n",
       "1     11     [0]  3   2     [0]    [5, 14]\n",
       "2     18     [0]  3   2     [0]    [5, 14]\n",
       "3      8     [0]  5   2     [0]     [3, 5]\n",
       "4      5     [0]  5   1  [7, 8]  [1, 3, 5]\n",
       "...   ..     ... ..  ..     ...        ...\n",
       "1320   9     [0]  1   1     [0]   [10, 13]\n",
       "1321   9     [0]  3   1     [0]   [10, 13]\n",
       "1322   3     [0]  2   2     [0]   [10, 13]\n",
       "1323   3     [0]  5   3     [0]   [10, 14]\n",
       "1324   3  [2, 7]  4   4     [0]   [10, 15]\n",
       "\n",
       "[1325 rows x 6 columns]"
      ]
     },
     "execution_count": 9,
     "metadata": {},
     "output_type": "execute_result"
    }
   ],
   "source": [
    "df"
   ]
  },
  {
   "cell_type": "code",
   "execution_count": 10,
   "id": "410cc575",
   "metadata": {},
   "outputs": [],
   "source": [
    "menu = ['머쉬룸', '쉬림프', '로티세리 바비큐 치킨', '이탈리안 비엠티', '로스트 치킨', '에그마요', 'K-바비큐', '풀드 포크 바비큐', '비엘티',\n",
    "       '햄', '참치', '써브웨이 클럽', '베지', '스테이크 & 치즈', '스파이시 이탈리안', '치킨 데리야끼']\n",
    "bread = ['허니오트', '하티', '위트', '파마산 오레가노', '화이트', '플랫 브래드']\n",
    "cheese = ['아메리칸 치즈', '슈레드 치즈', '모차렐라 치즈', '치즈 제외']\n",
    "vege = ['제외 안함', '양상추', '토마토', '오이', '피망', '양파', '피클', '올리브', '할라피뇨']\n",
    "source = ['소스 제외', '랜치', '마요네즈', '스위트 어니언', '허니 머스타드', '스위트 칠리', '핫 칠리', '사우스웨스트 치폴레', '머스타드',\n",
    "         '홀스래디쉬', '올리브 오일', '레드와인식초', '소금', '후추', '스모크 바비큐', '이탈리안 드레싱']\n",
    "ingredient = ['추가 안함', '미트', '에그마요', '페퍼로니', '베이컨', '아보카도', '오믈렛', '치즈']"
   ]
  },
  {
   "cell_type": "code",
   "execution_count": 11,
   "id": "bfc551ae",
   "metadata": {},
   "outputs": [
    {
     "data": {
      "text/plain": [
       "16"
      ]
     },
     "execution_count": 11,
     "metadata": {},
     "output_type": "execute_result"
    }
   ],
   "source": [
    "len(menu)"
   ]
  },
  {
   "cell_type": "code",
   "execution_count": 12,
   "id": "cb05e5dc",
   "metadata": {},
   "outputs": [
    {
     "data": {
      "text/plain": [
       "Index(['메뉴', '재료 추가', '빵', '치즈', '제외 야채', '소스'], dtype='object')"
      ]
     },
     "execution_count": 12,
     "metadata": {},
     "output_type": "execute_result"
    }
   ],
   "source": [
    "df.columns"
   ]
  },
  {
   "cell_type": "code",
   "execution_count": 13,
   "id": "8aa64e74",
   "metadata": {},
   "outputs": [
    {
     "data": {
      "text/html": [
       "<div>\n",
       "<style scoped>\n",
       "    .dataframe tbody tr th:only-of-type {\n",
       "        vertical-align: middle;\n",
       "    }\n",
       "\n",
       "    .dataframe tbody tr th {\n",
       "        vertical-align: top;\n",
       "    }\n",
       "\n",
       "    .dataframe thead th {\n",
       "        text-align: right;\n",
       "    }\n",
       "</style>\n",
       "<table border=\"1\" class=\"dataframe\">\n",
       "  <thead>\n",
       "    <tr style=\"text-align: right;\">\n",
       "      <th></th>\n",
       "      <th>메뉴</th>\n",
       "      <th>재료 추가</th>\n",
       "      <th>빵</th>\n",
       "      <th>치즈</th>\n",
       "      <th>제외 야채</th>\n",
       "      <th>소스</th>\n",
       "    </tr>\n",
       "  </thead>\n",
       "  <tbody>\n",
       "    <tr>\n",
       "      <th>0</th>\n",
       "      <td>8</td>\n",
       "      <td>[0]</td>\n",
       "      <td>3</td>\n",
       "      <td>1</td>\n",
       "      <td>[0]</td>\n",
       "      <td>[4, 5]</td>\n",
       "    </tr>\n",
       "    <tr>\n",
       "      <th>1</th>\n",
       "      <td>11</td>\n",
       "      <td>[0]</td>\n",
       "      <td>3</td>\n",
       "      <td>2</td>\n",
       "      <td>[0]</td>\n",
       "      <td>[5, 14]</td>\n",
       "    </tr>\n",
       "    <tr>\n",
       "      <th>2</th>\n",
       "      <td>18</td>\n",
       "      <td>[0]</td>\n",
       "      <td>3</td>\n",
       "      <td>2</td>\n",
       "      <td>[0]</td>\n",
       "      <td>[5, 14]</td>\n",
       "    </tr>\n",
       "    <tr>\n",
       "      <th>3</th>\n",
       "      <td>8</td>\n",
       "      <td>[0]</td>\n",
       "      <td>5</td>\n",
       "      <td>2</td>\n",
       "      <td>[0]</td>\n",
       "      <td>[3, 5]</td>\n",
       "    </tr>\n",
       "    <tr>\n",
       "      <th>4</th>\n",
       "      <td>5</td>\n",
       "      <td>[0]</td>\n",
       "      <td>5</td>\n",
       "      <td>1</td>\n",
       "      <td>[7, 8]</td>\n",
       "      <td>[1, 3, 5]</td>\n",
       "    </tr>\n",
       "  </tbody>\n",
       "</table>\n",
       "</div>"
      ],
      "text/plain": [
       "   메뉴 재료 추가  빵  치즈   제외 야채         소스\n",
       "0   8   [0]  3   1     [0]     [4, 5]\n",
       "1  11   [0]  3   2     [0]    [5, 14]\n",
       "2  18   [0]  3   2     [0]    [5, 14]\n",
       "3   8   [0]  5   2     [0]     [3, 5]\n",
       "4   5   [0]  5   1  [7, 8]  [1, 3, 5]"
      ]
     },
     "execution_count": 13,
     "metadata": {},
     "output_type": "execute_result"
    }
   ],
   "source": [
    "df.head()"
   ]
  },
  {
   "cell_type": "code",
   "execution_count": 14,
   "id": "43209b58",
   "metadata": {},
   "outputs": [],
   "source": [
    "menu_count = df[['메뉴']].value_counts()"
   ]
  },
  {
   "cell_type": "code",
   "execution_count": 15,
   "id": "e9aadfe3",
   "metadata": {},
   "outputs": [],
   "source": [
    "menu_list = [i for i in range(3,19)]\n",
    "menu_count = [menu_count[i] for i in menu_list]"
   ]
  },
  {
   "cell_type": "code",
   "execution_count": 16,
   "id": "4ca5d28d",
   "metadata": {
    "scrolled": true
   },
   "outputs": [
    {
     "data": {
      "text/plain": [
       "[4, 43, 74, 171, 105, 146, 10, 85, 140, 19, 38, 173, 88, 107, 99, 20]"
      ]
     },
     "execution_count": 16,
     "metadata": {},
     "output_type": "execute_result"
    }
   ],
   "source": [
    "menu_count"
   ]
  },
  {
   "cell_type": "code",
   "execution_count": 17,
   "id": "2739b62e",
   "metadata": {},
   "outputs": [
    {
     "data": {
      "image/png": "[encoded data removed]",
      "text/plain": [
       "<Figure size 1440x720 with 1 Axes>"
      ]
     },
     "metadata": {
      "needs_background": "light"
     },
     "output_type": "display_data"
    }
   ],
   "source": [
    "plt.figure(figsize=(20, 10))\n",
    "bar = plt.barh(menu_list, menu_count, color='green', ec='k')\n",
    "plt.title('메뉴 선호도')\n",
    "plt.ylabel('메뉴')\n",
    "plt.xlabel('선호도')\n",
    "plt.yticks(menu_list, menu)\n",
    "for idx, val in enumerate(menu_count):\n",
    "    plt.text(val + 1, idx+2.8, str(val), color='blue', fontweight='bold')\n",
    "plt.show()"
   ]
  },
  {
   "cell_type": "code",
   "execution_count": 18,
   "id": "393e9cea",
   "metadata": {},
   "outputs": [],
   "source": [
    "bread_count = df[['빵']].value_counts()"
   ]
  },
  {
   "cell_type": "code",
   "execution_count": 19,
   "id": "4b0314e5",
   "metadata": {},
   "outputs": [],
   "source": [
    "bread_list = [i for i in range(1,7)]\n",
    "bread_count = [bread_count[i] for i in bread_list]"
   ]
  },
  {
   "cell_type": "code",
   "execution_count": 20,
   "id": "14afe854",
   "metadata": {},
   "outputs": [
    {
     "data": {
      "text/plain": [
       "[234, 159, 251, 196, 205, 280]"
      ]
     },
     "execution_count": 20,
     "metadata": {},
     "output_type": "execute_result"
    }
   ],
   "source": [
    "bread_count"
   ]
  },
  {
   "cell_type": "code",
   "execution_count": 21,
   "id": "1e5061ef",
   "metadata": {},
   "outputs": [
    {
     "data": {
      "image/png": "[encoded data removed]",
      "text/plain": [
       "<Figure size 720x360 with 1 Axes>"
      ]
     },
     "metadata": {},
     "output_type": "display_data"
    }
   ],
   "source": [
    "plt.figure(figsize=(10, 5))\n",
    "plt.pie(bread_count, autopct='%.1f%%', startangle=90, counterclock=False, colors=['#ffadad', '#ffd6a5', '#fdffb6', '#caffbf', '#9bf6ff', '#a0c4ff']) # values만 가지고도 차트 생성 가능\n",
    "plt.title('빵 선호도')\n",
    "plt.legend(labels=bread,loc=(1, 0.25), title='빵 종류')\n",
    "plt.show()"
   ]
  },
  {
   "cell_type": "code",
   "execution_count": 22,
   "id": "c6afa68a",
   "metadata": {},
   "outputs": [],
   "source": [
    "cheese_count = df[['치즈']].value_counts()"
   ]
  },
  {
   "cell_type": "code",
   "execution_count": 23,
   "id": "f4b430c6",
   "metadata": {},
   "outputs": [],
   "source": [
    "cheese_list = [i for i in range(1,5)]\n",
    "cheese_count = [cheese_count[i] for i in cheese_list]"
   ]
  },
  {
   "cell_type": "code",
   "execution_count": 24,
   "id": "9882bdc0",
   "metadata": {},
   "outputs": [
    {
     "data": {
      "text/plain": [
       "[476, 370, 371, 108]"
      ]
     },
     "execution_count": 24,
     "metadata": {},
     "output_type": "execute_result"
    }
   ],
   "source": [
    "cheese_count"
   ]
  },
  {
   "cell_type": "code",
   "execution_count": 25,
   "id": "e4477dfa",
   "metadata": {},
   "outputs": [
    {
     "data": {
      "image/png": "[encoded data removed]",
      "text/plain": [
       "<Figure size 720x360 with 1 Axes>"
      ]
     },
     "metadata": {},
     "output_type": "display_data"
    }
   ],
   "source": [
    "plt.figure(figsize=(10, 5))\n",
    "plt.pie(cheese_count, autopct='%.1f%%', startangle=90, counterclock=False, colors=['#ffd6a5', '#fdffb6', '#caffbf', '#9bf6ff']) # values만 가지고도 차트 생성 가능\n",
    "plt.title('치즈 선호도')\n",
    "plt.legend(labels = cheese, loc=(1, 0.25), title='치즈 종류')\n",
    "plt.show()"
   ]
  },
  {
   "cell_type": "code",
   "execution_count": 26,
   "id": "ccf21233",
   "metadata": {},
   "outputs": [
    {
     "data": {
      "text/plain": [
       "['0',\n",
       " '1',\n",
       " '2',\n",
       " '3',\n",
       " '4',\n",
       " '5',\n",
       " '6',\n",
       " '7',\n",
       " '8',\n",
       " '9',\n",
       " '10',\n",
       " '11',\n",
       " '12',\n",
       " '13',\n",
       " '14',\n",
       " '15']"
      ]
     },
     "execution_count": 26,
     "metadata": {},
     "output_type": "execute_result"
    }
   ],
   "source": [
    "source_list = [str(i) for i in range(0,16)]\n",
    "source_list"
   ]
  },
  {
   "cell_type": "code",
   "execution_count": 27,
   "id": "a84ea3bf",
   "metadata": {},
   "outputs": [
    {
     "data": {
      "text/plain": [
       "{'0': 0,\n",
       " '1': 0,\n",
       " '2': 0,\n",
       " '3': 0,\n",
       " '4': 0,\n",
       " '5': 0,\n",
       " '6': 0,\n",
       " '7': 0,\n",
       " '8': 0,\n",
       " '9': 0,\n",
       " '10': 0,\n",
       " '11': 0,\n",
       " '12': 0,\n",
       " '13': 0,\n",
       " '14': 0,\n",
       " '15': 0}"
      ]
     },
     "execution_count": 27,
     "metadata": {},
     "output_type": "execute_result"
    }
   ],
   "source": [
    "source_count = {}\n",
    "for i in source_list:\n",
    "    source_count[i] = 0\n",
    "source_count"
   ]
  },
  {
   "cell_type": "code",
   "execution_count": 28,
   "id": "0d1a6bbe",
   "metadata": {},
   "outputs": [],
   "source": [
    "for i in range(0, df.index.max()+1):\n",
    "    for j in df.iloc[i]['소스']:\n",
    "        source_count[j] += 1"
   ]
  },
  {
   "cell_type": "code",
   "execution_count": 29,
   "id": "c9aa23d4",
   "metadata": {
    "scrolled": false
   },
   "outputs": [
    {
     "data": {
      "image/png": "[encoded data removed]",
      "text/plain": [
       "<Figure size 720x720 with 1 Axes>"
      ]
     },
     "metadata": {
      "needs_background": "light"
     },
     "output_type": "display_data"
    }
   ],
   "source": [
    "plt.figure(figsize=(10, 10))\n",
    "bar = plt.barh(list(source_count.keys()), list(source_count.values()), color='violet', ec='k')\n",
    "plt.title('소스 선호도')\n",
    "plt.ylabel('소스 종류')\n",
    "plt.xlabel('선호도')\n",
    "plt.yticks(list(source_count.keys()),source)\n",
    "for idx, val in enumerate(source_count.values()):\n",
    "    plt.text(val + 2, idx-0.2, str(val), color='blue', fontweight='bold')\n",
    "plt.show()"
   ]
  },
  {
   "cell_type": "code",
   "execution_count": 30,
   "id": "51dc3fc7",
   "metadata": {},
   "outputs": [
    {
     "data": {
      "text/plain": [
       "['0', '1', '2', '3', '4', '5', '6', '7', '8']"
      ]
     },
     "execution_count": 30,
     "metadata": {},
     "output_type": "execute_result"
    }
   ],
   "source": [
    "vege_list = [str(i) for i in range(0,9)]\n",
    "vege_list"
   ]
  },
  {
   "cell_type": "code",
   "execution_count": 31,
   "id": "443a1c25",
   "metadata": {},
   "outputs": [
    {
     "data": {
      "text/plain": [
       "{'0': 0, '1': 0, '2': 0, '3': 0, '4': 0, '5': 0, '6': 0, '7': 0, '8': 0}"
      ]
     },
     "execution_count": 31,
     "metadata": {},
     "output_type": "execute_result"
    }
   ],
   "source": [
    "vege_count = {}\n",
    "for i in vege_list:\n",
    "    vege_count[i] = 0\n",
    "vege_count"
   ]
  },
  {
   "cell_type": "code",
   "execution_count": 32,
   "id": "6482c464",
   "metadata": {},
   "outputs": [],
   "source": [
    "for i in range(0, df.index.max()+1):\n",
    "    for j in df.iloc[i]['제외 야채']:\n",
    "        vege_count[j] += 1"
   ]
  },
  {
   "cell_type": "code",
   "execution_count": 33,
   "id": "39344d1a",
   "metadata": {
    "scrolled": false
   },
   "outputs": [
    {
     "data": {
      "image/png": "[encoded data removed]",
      "text/plain": [
       "<Figure size 1080x504 with 1 Axes>"
      ]
     },
     "metadata": {
      "needs_background": "light"
     },
     "output_type": "display_data"
    }
   ],
   "source": [
    "plt.figure(figsize=(15,7))\n",
    "bar = plt.barh(list(vege_count.keys()), list(vege_count.values()), color='greenyellow', ec='k')\n",
    "plt.title('야채 제외 선호도')\n",
    "plt.ylabel('야채 종류')\n",
    "plt.xlabel('선호도')\n",
    "plt.yticks(list(vege_count.keys()), vege)\n",
    "for idx, val in enumerate(vege_count.values()):\n",
    "    plt.text(val + 3, idx-0.15, str(val), color='blue', fontweight='bold')\n",
    "plt.show()"
   ]
  },
  {
   "cell_type": "code",
   "execution_count": 34,
   "id": "1f219333",
   "metadata": {},
   "outputs": [
    {
     "data": {
      "text/plain": [
       "['0', '1', '2', '3', '4', '5', '6', '7']"
      ]
     },
     "execution_count": 34,
     "metadata": {},
     "output_type": "execute_result"
    }
   ],
   "source": [
    "ingredient_list = [str(i) for i in range(0,8)]\n",
    "ingredient_list"
   ]
  },
  {
   "cell_type": "code",
   "execution_count": 35,
   "id": "e31204e4",
   "metadata": {},
   "outputs": [
    {
     "data": {
      "text/plain": [
       "{'0': 0, '1': 0, '2': 0, '3': 0, '4': 0, '5': 0, '6': 0, '7': 0}"
      ]
     },
     "execution_count": 35,
     "metadata": {},
     "output_type": "execute_result"
    }
   ],
   "source": [
    "ingredient_count = {}\n",
    "for i in ingredient_list:\n",
    "    ingredient_count[i] = 0\n",
    "ingredient_count"
   ]
  },
  {
   "cell_type": "code",
   "execution_count": 36,
   "id": "2d9d1ec2",
   "metadata": {},
   "outputs": [],
   "source": [
    "for i in range(0, df.index.max()+1):\n",
    "    for j in df.iloc[i]['재료 추가']:\n",
    "        ingredient_count[j] += 1"
   ]
  },
  {
   "cell_type": "code",
   "execution_count": 37,
   "id": "50c33084",
   "metadata": {
    "scrolled": false
   },
   "outputs": [
    {
     "data": {
      "image/png": "[encoded data removed]",
      "text/plain": [
       "<Figure size 1080x504 with 1 Axes>"
      ]
     },
     "metadata": {
      "needs_background": "light"
     },
     "output_type": "display_data"
    }
   ],
   "source": [
    "plt.figure(figsize=(15, 7))\n",
    "bar = plt.barh(list(ingredient_count.keys()), list(ingredient_count.values()), color='brown', ec='k')\n",
    "plt.title('재료 추가 선호도')\n",
    "plt.ylabel('재료 종류')\n",
    "plt.xlabel('선호도')\n",
    "plt.yticks(list(ingredient_count.keys()), ingredient)\n",
    "for idx, val in enumerate(ingredient_count.values()):\n",
    "    plt.text(val + 3, idx-0.15, str(val), color='blue', fontweight='bold')\n",
    "plt.show()"
   ]
  },
  {
   "cell_type": "code",
   "execution_count": null,
   "id": "3cee174f",
   "metadata": {},
   "outputs": [],
   "source": []
  }
 ],
 "metadata": {
  "kernelspec": {
   "display_name": "Python 3 (ipykernel)",
   "language": "python",
   "name": "python3"
  },
  "language_info": {
   "codemirror_mode": {
    "name": "ipython",
    "version": 3
   },
   "file_extension": ".py",
   "mimetype": "text/x-python",
   "name": "python",
   "nbconvert_exporter": "python",
   "pygments_lexer": "ipython3",
   "version": "3.9.12"
  }
 },
 "nbformat": 4,
 "nbformat_minor": 5
}
