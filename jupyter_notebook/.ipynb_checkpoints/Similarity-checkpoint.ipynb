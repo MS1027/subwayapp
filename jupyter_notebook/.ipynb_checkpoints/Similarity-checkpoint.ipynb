{
 "cells": [
  {
   "cell_type": "code",
   "execution_count": 1,
   "id": "e32c8fd3",
   "metadata": {},
   "outputs": [],
   "source": [
    "import pandas as pd\n",
    "import numpy as np"
   ]
  },
  {
   "cell_type": "code",
   "execution_count": 2,
   "id": "828f174f",
   "metadata": {},
   "outputs": [],
   "source": [
    "des = pd.read_excel('../data/menu_description.xlsx')"
   ]
  },
  {
   "cell_type": "code",
   "execution_count": 3,
   "id": "a3eec629",
   "metadata": {},
   "outputs": [],
   "source": [
    "from sklearn.feature_extraction.text import TfidfVectorizer\n",
    "from sklearn.feature_extraction.text import ENGLISH_STOP_WORDS\n",
    "tfidf = TfidfVectorizer(stop_words='english')"
   ]
  },
  {
   "cell_type": "code",
   "execution_count": 4,
   "id": "0de1ce0a",
   "metadata": {},
   "outputs": [
    {
     "data": {
      "text/html": [
       "<div>\n",
       "<style scoped>\n",
       "    .dataframe tbody tr th:only-of-type {\n",
       "        vertical-align: middle;\n",
       "    }\n",
       "\n",
       "    .dataframe tbody tr th {\n",
       "        vertical-align: top;\n",
       "    }\n",
       "\n",
       "    .dataframe thead th {\n",
       "        text-align: right;\n",
       "    }\n",
       "</style>\n",
       "<table border=\"1\" class=\"dataframe\">\n",
       "  <thead>\n",
       "    <tr style=\"text-align: right;\">\n",
       "      <th></th>\n",
       "      <th>index</th>\n",
       "      <th>menu</th>\n",
       "      <th>description</th>\n",
       "    </tr>\n",
       "  </thead>\n",
       "  <tbody>\n",
       "    <tr>\n",
       "      <th>0</th>\n",
       "      <td>1392</td>\n",
       "      <td>쉬림프</td>\n",
       "      <td>Juicy and fresh shrimp. Surely you can not res...</td>\n",
       "    </tr>\n",
       "    <tr>\n",
       "      <th>1</th>\n",
       "      <td>1406</td>\n",
       "      <td>로티세리 바비큐 치킨</td>\n",
       "      <td>The best chicken with the best preparation! Th...</td>\n",
       "    </tr>\n",
       "    <tr>\n",
       "      <th>2</th>\n",
       "      <td>1290</td>\n",
       "      <td>이탈리안 비엠티</td>\n",
       "      <td>An old world favorite sandwich that is made up...</td>\n",
       "    </tr>\n",
       "    <tr>\n",
       "      <th>3</th>\n",
       "      <td>1401</td>\n",
       "      <td>로스트 치킨</td>\n",
       "      <td>Lightly seasoned chicken that is roasted to pe...</td>\n",
       "    </tr>\n",
       "    <tr>\n",
       "      <th>4</th>\n",
       "      <td>1291</td>\n",
       "      <td>에그마요</td>\n",
       "      <td>A simple recipe anyone will love with a thick ...</td>\n",
       "    </tr>\n",
       "    <tr>\n",
       "      <th>5</th>\n",
       "      <td>1393</td>\n",
       "      <td>K-바비큐</td>\n",
       "      <td>Subway's first Korean style sandwich! Garlic, ...</td>\n",
       "    </tr>\n",
       "    <tr>\n",
       "      <th>6</th>\n",
       "      <td>1398</td>\n",
       "      <td>풀드 포크 바비큐</td>\n",
       "      <td>Succulent, low and slow cooked pulled pork wit...</td>\n",
       "    </tr>\n",
       "    <tr>\n",
       "      <th>7</th>\n",
       "      <td>1289</td>\n",
       "      <td>비엘티</td>\n",
       "      <td>Mouth-watering bacon paired with crispy lettuc...</td>\n",
       "    </tr>\n",
       "    <tr>\n",
       "      <th>8</th>\n",
       "      <td>1287</td>\n",
       "      <td>햄</td>\n",
       "      <td>Ham is the ultimate lunchtime staple. Jazz it ...</td>\n",
       "    </tr>\n",
       "    <tr>\n",
       "      <th>9</th>\n",
       "      <td>1286</td>\n",
       "      <td>참치</td>\n",
       "      <td>Another gift from the sea of simple yet sumptu...</td>\n",
       "    </tr>\n",
       "    <tr>\n",
       "      <th>10</th>\n",
       "      <td>1405</td>\n",
       "      <td>써브웨이 클럽</td>\n",
       "      <td>The perfect combination of thinly sliced chick...</td>\n",
       "    </tr>\n",
       "    <tr>\n",
       "      <th>11</th>\n",
       "      <td>1403</td>\n",
       "      <td>베지</td>\n",
       "      <td>A delightfully fresh combination of juicy lett...</td>\n",
       "    </tr>\n",
       "    <tr>\n",
       "      <th>12</th>\n",
       "      <td>1391</td>\n",
       "      <td>스테이크 &amp; 치즈</td>\n",
       "      <td>For a sinful delight, the Cheese Steak feature...</td>\n",
       "    </tr>\n",
       "    <tr>\n",
       "      <th>13</th>\n",
       "      <td>1395</td>\n",
       "      <td>스파이시 이탈리안</td>\n",
       "      <td>Spice up your life with some real flavor. Serv...</td>\n",
       "    </tr>\n",
       "    <tr>\n",
       "      <th>14</th>\n",
       "      <td>1394</td>\n",
       "      <td>치킨 데리야끼</td>\n",
       "      <td>An Asian classic gourmet made with a flavorful...</td>\n",
       "    </tr>\n",
       "  </tbody>\n",
       "</table>\n",
       "</div>"
      ],
      "text/plain": [
       "    index         menu                                        description\n",
       "0    1392          쉬림프  Juicy and fresh shrimp. Surely you can not res...\n",
       "1    1406  로티세리 바비큐 치킨  The best chicken with the best preparation! Th...\n",
       "2    1290     이탈리안 비엠티  An old world favorite sandwich that is made up...\n",
       "3    1401       로스트 치킨  Lightly seasoned chicken that is roasted to pe...\n",
       "4    1291         에그마요  A simple recipe anyone will love with a thick ...\n",
       "5    1393        K-바비큐  Subway's first Korean style sandwich! Garlic, ...\n",
       "6    1398    풀드 포크 바비큐  Succulent, low and slow cooked pulled pork wit...\n",
       "7    1289          비엘티  Mouth-watering bacon paired with crispy lettuc...\n",
       "8    1287            햄  Ham is the ultimate lunchtime staple. Jazz it ...\n",
       "9    1286           참치  Another gift from the sea of simple yet sumptu...\n",
       "10   1405      써브웨이 클럽  The perfect combination of thinly sliced chick...\n",
       "11   1403           베지  A delightfully fresh combination of juicy lett...\n",
       "12   1391    스테이크 & 치즈  For a sinful delight, the Cheese Steak feature...\n",
       "13   1395    스파이시 이탈리안  Spice up your life with some real flavor. Serv...\n",
       "14   1394      치킨 데리야끼  An Asian classic gourmet made with a flavorful..."
      ]
     },
     "execution_count": 4,
     "metadata": {},
     "output_type": "execute_result"
    }
   ],
   "source": [
    "des"
   ]
  },
  {
   "cell_type": "code",
   "execution_count": 5,
   "id": "5cfd55d7",
   "metadata": {},
   "outputs": [],
   "source": [
    "from sklearn.feature_extraction.text import TfidfVectorizer\n",
    "tfidf = TfidfVectorizer(stop_words='english')"
   ]
  },
  {
   "cell_type": "code",
   "execution_count": 6,
   "id": "0ccb35a6",
   "metadata": {
    "scrolled": true
   },
   "outputs": [],
   "source": [
    "from sklearn.feature_extraction.text import ENGLISH_STOP_WORDS"
   ]
  },
  {
   "cell_type": "code",
   "execution_count": 7,
   "id": "ca2ff591",
   "metadata": {},
   "outputs": [],
   "source": [
    "from sklearn.metrics.pairwise import linear_kernel"
   ]
  },
  {
   "cell_type": "code",
   "execution_count": 8,
   "id": "7f510de7",
   "metadata": {},
   "outputs": [],
   "source": [
    "def get_recommendations(input_words):\n",
    "    # input_words를 des에 추가\n",
    "    des.loc[15] = [0, 'input_words', input_words]\n",
    "    \n",
    "    # tfidf 벡터화\n",
    "    tfidf_matrix = tfidf.fit_transform(des['description'])\n",
    "    \n",
    "    # 코사인 유사도 평가\n",
    "    cosine_sim = linear_kernel(tfidf_matrix, tfidf_matrix)\n",
    "    \n",
    "    # 입력 값에 대한 코사인 유사도 정보 추출\n",
    "    lst = list(enumerate(cosine_sim[15]))\n",
    "    \n",
    "    # 코사인 유사도 기준으로 내림차순 정렬\n",
    "    lst = sorted(lst, key=lambda x: x[1], reverse=True)\n",
    "    \n",
    "    # 자신을 제외한 가장 유사도가 높은 3가지만 슬라이싱\n",
    "    lst = lst[1:4]\n",
    "    \n",
    "    # 인덱스 정보 추출\n",
    "    idx = [i[0] for i in lst]\n",
    "    \n",
    "    # 인덱스로부터 메뉴명 추출\n",
    "    return des['menu'].iloc[idx]"
   ]
  },
  {
   "cell_type": "code",
   "execution_count": 9,
   "id": "ab8235c7",
   "metadata": {},
   "outputs": [
    {
     "name": "stdout",
     "output_type": "stream",
     "text": [
      "3          로스트 치킨\n",
      "1     로티세리 바비큐 치킨\n",
      "14        치킨 데리야끼\n",
      "Name: menu, dtype: object\n"
     ]
    }
   ],
   "source": [
    "input_words = \"chicken\"\n",
    "print(get_recommendations(input_words))"
   ]
  }
 ],
 "metadata": {
  "kernelspec": {
   "display_name": "Python 3 (ipykernel)",
   "language": "python",
   "name": "python3"
  },
  "language_info": {
   "codemirror_mode": {
    "name": "ipython",
    "version": 3
   },
   "file_extension": ".py",
   "mimetype": "text/x-python",
   "name": "python",
   "nbconvert_exporter": "python",
   "pygments_lexer": "ipython3",
   "version": "3.9.12"
  }
 },
 "nbformat": 4,
 "nbformat_minor": 5
}
